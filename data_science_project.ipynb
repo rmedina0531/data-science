{
  "nbformat": 4,
  "nbformat_minor": 0,
  "metadata": {
    "colab": {
      "name": "data_science_project.ipynb",
      "provenance": [],
      "include_colab_link": true
    },
    "kernelspec": {
      "name": "python3",
      "display_name": "Python 3"
    }
  },
  "cells": [
    {
      "cell_type": "markdown",
      "metadata": {
        "id": "view-in-github",
        "colab_type": "text"
      },
      "source": [
        "<a href=\"https://colab.research.google.com/github/rmedina0531/data-science/blob/master/data_science_project.ipynb\" target=\"_parent\"><img src=\"https://colab.research.google.com/assets/colab-badge.svg\" alt=\"Open In Colab\"/></a>"
      ]
    },
    {
      "cell_type": "markdown",
      "metadata": {
        "id": "grlG2BBHECiz"
      },
      "source": [
        "# Kobe bryant shot predictor"
      ]
    },
    {
      "cell_type": "code",
      "metadata": {
        "id": "O9XMEEl0ChuR"
      },
      "source": [
        "#import google drive access for data\n",
        "#unsure if this will work with shared users\n",
        "# from google.colab import drive\n",
        "# drive.mount('/content/drive')\n",
        "\n"
      ],
      "execution_count": 47,
      "outputs": []
    },
    {
      "cell_type": "code",
      "metadata": {
        "id": "TWSiL85ZL6TI",
        "outputId": "1e831bb6-68c9-4d4d-88a0-1991ab2948b9",
        "colab": {
          "base_uri": "https://localhost:8080/"
        }
      },
      "source": [
        "#import libraries \n",
        "import pandas as pd\n",
        "import numpy as np\n",
        "\n",
        "#import file into data frame from gdrive\n",
        "data_frame = pd.read_csv('https://raw.githubusercontent.com/rmedina0531/data-science/master/kobe_data.csv')\n",
        "\n",
        "print(data_frame.head())\n"
      ],
      "execution_count": 48,
      "outputs": [
        {
          "output_type": "stream",
          "text": [
            "         action_type combined_shot_type  ...  opponent  shot_id\n",
            "0          Jump Shot          Jump Shot  ...       POR        1\n",
            "1          Jump Shot          Jump Shot  ...       POR        2\n",
            "2          Jump Shot          Jump Shot  ...       POR        3\n",
            "3          Jump Shot          Jump Shot  ...       POR        4\n",
            "4  Driving Dunk Shot               Dunk  ...       POR        5\n",
            "\n",
            "[5 rows x 25 columns]\n"
          ],
          "name": "stdout"
        }
      ]
    },
    {
      "cell_type": "code",
      "metadata": {
        "id": "PE3JuwgCN6x1",
        "outputId": "7459ca37-fbb0-4f2f-ca75-63f96aa90cd2",
        "colab": {
          "base_uri": "https://localhost:8080/"
        }
      },
      "source": [
        "#remove all data rows that do not have a shot_made flag\n",
        "#data is used after the model is train and tested to use for the kaggle competition\n",
        "\n",
        "#drop the null values in shot_made_flag\n",
        "data_frame.dropna(subset=['shot_made_flag'], inplace=True)\n",
        "\n",
        "print(data_frame[['seconds_remaining','shot_made_flag']].head())"
      ],
      "execution_count": 49,
      "outputs": [
        {
          "output_type": "stream",
          "text": [
            "   seconds_remaining  shot_made_flag\n",
            "1                 22             0.0\n",
            "2                 45             1.0\n",
            "3                 52             0.0\n",
            "4                 19             1.0\n",
            "5                 32             0.0\n"
          ],
          "name": "stdout"
        }
      ]
    },
    {
      "cell_type": "markdown",
      "metadata": {
        "id": "-hbuT5BuVyN1"
      },
      "source": [
        "#Testing using only 2 features using knn"
      ]
    },
    {
      "cell_type": "code",
      "metadata": {
        "id": "TSQ8rlyYUhEo",
        "outputId": "192202df-94ff-450e-bd4f-6e144795c54e",
        "colab": {
          "base_uri": "https://localhost:8080/"
        }
      },
      "source": [
        "#pull features and labels\n",
        "#for initial test purposes pulling features: seconds, shot_distance\n",
        "\n",
        "features = data_frame[['seconds_remaining', 'shot_distance']]\n",
        "labels = data_frame['shot_made_flag']\n",
        "\n",
        "print(features.head())"
      ],
      "execution_count": 50,
      "outputs": [
        {
          "output_type": "stream",
          "text": [
            "   seconds_remaining  shot_distance\n",
            "1                 22             15\n",
            "2                 45             16\n",
            "3                 52             22\n",
            "4                 19              0\n",
            "5                 32             14\n"
          ],
          "name": "stdout"
        }
      ]
    },
    {
      "cell_type": "code",
      "metadata": {
        "id": "W2TL1db5VZ4o",
        "outputId": "51b3cdb9-8e83-456c-8f14-f2373b34febe",
        "colab": {
          "base_uri": "https://localhost:8080/"
        }
      },
      "source": [
        "#split into training and test data\n",
        "from sklearn.model_selection import train_test_split\n",
        "\n",
        "\n",
        "#find out what values to use for test_size and random_state\n",
        "feature_train, feature_test, label_train, label_test = train_test_split(\n",
        "    features, labels, test_size=0.25, random_state=6)\n",
        "\n",
        "print(feature_train.shape)\n",
        "print(label_train.shape)"
      ],
      "execution_count": 51,
      "outputs": [
        {
          "output_type": "stream",
          "text": [
            "(19272, 2)\n",
            "(19272,)\n"
          ],
          "name": "stdout"
        }
      ]
    },
    {
      "cell_type": "code",
      "metadata": {
        "id": "oHlCfWdMWyn6",
        "outputId": "17a99d4a-2dbf-4b6a-fa4b-7be32466d8b1",
        "colab": {
          "base_uri": "https://localhost:8080/"
        }
      },
      "source": [
        "from sklearn.neighbors import KNeighborsClassifier\n",
        "from sklearn.metrics import accuracy_score\n",
        "\n",
        "#decide on best number of neighbors\n",
        "knn = KNeighborsClassifier(n_neighbors=3)\n",
        "knn.fit(feature_train, label_train)\n",
        "label_predict = knn.predict(feature_test)\n",
        "\n",
        "knn_accuracy = accuracy_score(label_test, label_predict)\n",
        "print(f'KNN accuracy at k=3: {knn_accuracy}')"
      ],
      "execution_count": 52,
      "outputs": [
        {
          "output_type": "stream",
          "text": [
            "KNN accuracy at k=3: 0.5400778210116731\n"
          ],
          "name": "stdout"
        }
      ]
    },
    {
      "cell_type": "markdown",
      "metadata": {
        "id": "ffkhTXTJW7C1"
      },
      "source": [
        "#knn using more features\n",
        "##the knn model will now use\n",
        "####period\n",
        "###the following must use hot encoding\n",
        "action_type,\n",
        "shot_zone_range,\n",
        "opponent,\n",
        "season,\n",
        "shot_zone_area"
      ]
    },
    {
      "cell_type": "code",
      "metadata": {
        "id": "2rQQ3oelW_UT",
        "outputId": "0214a722-d779-4795-8ceb-4b590f11a64e",
        "colab": {
          "base_uri": "https://localhost:8080/"
        }
      },
      "source": [
        "#pull out the features\n",
        "features = data_frame[['period']]\n",
        "print(features.head())"
      ],
      "execution_count": 53,
      "outputs": [
        {
          "output_type": "stream",
          "text": [
            "   period\n",
            "1       1\n",
            "2       1\n",
            "3       1\n",
            "4       2\n",
            "5       3\n"
          ],
          "name": "stdout"
        }
      ]
    },
    {
      "cell_type": "code",
      "metadata": {
        "id": "laBKWeSlYNlJ",
        "outputId": "ec6af6f7-c423-43c1-cbac-c8e74ea1dc61",
        "colab": {
          "base_uri": "https://localhost:8080/"
        }
      },
      "source": [
        "#one hot encoding step\n",
        "\n",
        "#get the features to be broken down\n",
        "action_type_mod = pd.get_dummies(data_frame.action_type, prefix='action_type')\n",
        "shot_zone_range_mod = pd.get_dummies(data_frame.shot_zone_range, prefix='shot_zone_range')\n",
        "opponent_mod = pd.get_dummies(data_frame.opponent, prefix='opponent')\n",
        "shot_zone_area_mod = pd.get_dummies(data_frame.shot_zone_area, prefix='shot_zone_area')\n",
        "\n",
        "print(type(action_type_mod))\n",
        "\n",
        "modified_features = pd.concat([features, action_type_mod, shot_zone_range_mod, \n",
        "                              shot_zone_area_mod, opponent_mod], axis=1, sort=False)\n",
        "# labels = data_frame['shot_made_flag']\n",
        "\n",
        "# print(modified_features[0::100])\n",
        "# print(modified_features.shape)\n",
        "# print(labels.shape)"
      ],
      "execution_count": 54,
      "outputs": [
        {
          "output_type": "stream",
          "text": [
            "<class 'pandas.core.frame.DataFrame'>\n"
          ],
          "name": "stdout"
        }
      ]
    },
    {
      "cell_type": "code",
      "metadata": {
        "id": "o06nWA0xeJCw",
        "outputId": "76f327c2-e4f5-43e3-ebf9-cebe4b82881b",
        "colab": {
          "base_uri": "https://localhost:8080/"
        }
      },
      "source": [
        "feature_train, feature_test, label_train, label_test = train_test_split(\n",
        "    modified_features, labels, test_size=0.25, random_state=6)\n",
        "\n",
        "print(feature_train.shape)\n",
        "print(label_train.shape)"
      ],
      "execution_count": 55,
      "outputs": [
        {
          "output_type": "stream",
          "text": [
            "(19272, 100)\n",
            "(19272,)\n"
          ],
          "name": "stdout"
        }
      ]
    },
    {
      "cell_type": "code",
      "metadata": {
        "id": "CoNHqc15gn8M",
        "outputId": "a4d2c456-ca75-47e0-d768-e5dcc2febdf3",
        "colab": {
          "base_uri": "https://localhost:8080/"
        }
      },
      "source": [
        "knn = KNeighborsClassifier(n_neighbors=3)\n",
        "knn.fit(feature_train, label_train)\n",
        "label_predict = knn.predict(feature_test)\n",
        "\n",
        "knn_accuracy = accuracy_score(label_test, label_predict)\n",
        "print(f'KNN accuracy at k=3: {knn_accuracy}')"
      ],
      "execution_count": 56,
      "outputs": [
        {
          "output_type": "stream",
          "text": [
            "KNN accuracy at k=3: 0.6048249027237355\n"
          ],
          "name": "stdout"
        }
      ]
    }
  ]
}