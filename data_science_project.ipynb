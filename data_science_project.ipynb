{
  "nbformat": 4,
  "nbformat_minor": 0,
  "metadata": {
    "colab": {
      "name": "data_science_project.ipynb",
      "provenance": [],
      "authorship_tag": "ABX9TyPQKovCgBP1U5mcprjVu6qh",
      "include_colab_link": true
    },
    "kernelspec": {
      "name": "python3",
      "display_name": "Python 3"
    }
  },
  "cells": [
    {
      "cell_type": "markdown",
      "metadata": {
        "id": "view-in-github",
        "colab_type": "text"
      },
      "source": [
        "<a href=\"https://colab.research.google.com/github/rmedina0531/data-science/blob/master/data_science_project.ipynb\" target=\"_parent\"><img src=\"https://colab.research.google.com/assets/colab-badge.svg\" alt=\"Open In Colab\"/></a>"
      ]
    },
    {
      "cell_type": "markdown",
      "metadata": {
        "id": "grlG2BBHECiz"
      },
      "source": [
        "# Kobe bryant shot predictor"
      ]
    },
    {
      "cell_type": "code",
      "metadata": {
        "id": "O9XMEEl0ChuR",
        "outputId": "729ae41c-ea16-4674-944b-1bb168281522",
        "colab": {
          "base_uri": "https://localhost:8080/"
        }
      },
      "source": [
        "#import google drive access for data\n",
        "#unsure if this will work with shared users\n",
        "from google.colab import drive\n",
        "drive.mount('/content/drive')\n",
        "\n"
      ],
      "execution_count": 20,
      "outputs": [
        {
          "output_type": "stream",
          "text": [
            "Drive already mounted at /content/drive; to attempt to forcibly remount, call drive.mount(\"/content/drive\", force_remount=True).\n"
          ],
          "name": "stdout"
        }
      ]
    },
    {
      "cell_type": "code",
      "metadata": {
        "id": "TWSiL85ZL6TI",
        "outputId": "b6f0ec93-8042-45da-f035-4756d282bb9a",
        "colab": {
          "base_uri": "https://localhost:8080/"
        }
      },
      "source": [
        "#import libraries \n",
        "import pandas as pd\n",
        "import numpy as np\n",
        "\n",
        "#import file into data frame from gdrive\n",
        "data_frame = pd.read_csv('/content/drive/My Drive/datascience/kobe_data.csv')\n",
        "\n",
        "print(data_frame.head())\n"
      ],
      "execution_count": 10,
      "outputs": [
        {
          "output_type": "stream",
          "text": [
            "         action_type combined_shot_type  ...  opponent  shot_id\n",
            "0          Jump Shot          Jump Shot  ...       POR        1\n",
            "1          Jump Shot          Jump Shot  ...       POR        2\n",
            "2          Jump Shot          Jump Shot  ...       POR        3\n",
            "3          Jump Shot          Jump Shot  ...       POR        4\n",
            "4  Driving Dunk Shot               Dunk  ...       POR        5\n",
            "\n",
            "[5 rows x 25 columns]\n"
          ],
          "name": "stdout"
        }
      ]
    },
    {
      "cell_type": "code",
      "metadata": {
        "id": "PE3JuwgCN6x1",
        "outputId": "1b65bb40-ae63-451e-8e16-991c6d3b71a1",
        "colab": {
          "base_uri": "https://localhost:8080/"
        }
      },
      "source": [
        "#remove all data rows that do not have a shot_made flag\n",
        "#data is used after the model is train and tested to use for the kaggle competition\n",
        "\n",
        "#drop the null values in shot_made_flag\n",
        "data_frame.dropna(subset=['shot_made_flag'], inplace=True)\n",
        "\n",
        "print(data_frame[['seconds_remaining','shot_made_flag']].head())"
      ],
      "execution_count": 13,
      "outputs": [
        {
          "output_type": "stream",
          "text": [
            "   seconds_remaining  shot_made_flag\n",
            "1                 22             0.0\n",
            "2                 45             1.0\n",
            "3                 52             0.0\n",
            "4                 19             1.0\n",
            "5                 32             0.0\n"
          ],
          "name": "stdout"
        }
      ]
    },
    {
      "cell_type": "markdown",
      "metadata": {
        "id": "-hbuT5BuVyN1"
      },
      "source": [
        "#Testing using only 2 features using knn"
      ]
    },
    {
      "cell_type": "code",
      "metadata": {
        "id": "TSQ8rlyYUhEo",
        "outputId": "fea99146-c136-4730-bc3f-1d5e7ac7d86c",
        "colab": {
          "base_uri": "https://localhost:8080/"
        }
      },
      "source": [
        "#pull features and labels\n",
        "#for initial test purposes pulling features: seconds, shot_distance\n",
        "\n",
        "features = data_frame[['seconds_remaining', 'shot_distance']]\n",
        "labels = data_frame['shot_made_flag']\n",
        "\n",
        "print(features.head())"
      ],
      "execution_count": 16,
      "outputs": [
        {
          "output_type": "stream",
          "text": [
            "   seconds_remaining  shot_distance\n",
            "1                 22             15\n",
            "2                 45             16\n",
            "3                 52             22\n",
            "4                 19              0\n",
            "5                 32             14\n"
          ],
          "name": "stdout"
        }
      ]
    },
    {
      "cell_type": "code",
      "metadata": {
        "id": "W2TL1db5VZ4o",
        "outputId": "b0ad0b44-a25e-4d92-805e-d7f0dcefa56f",
        "colab": {
          "base_uri": "https://localhost:8080/"
        }
      },
      "source": [
        "#split into training and test data\n",
        "from sklearn.model_selection import train_test_split\n",
        "\n",
        "\n",
        "#find out what values to use for test_size and random_state\n",
        "feature_train, feature_test, label_train, label_test = train_test_split(\n",
        "    features, labels, test_size=0.25, random_state=6)\n",
        "\n",
        "print(feature_train.shape)\n",
        "print(label_train.shape)"
      ],
      "execution_count": 17,
      "outputs": [
        {
          "output_type": "stream",
          "text": [
            "(19272, 2)\n",
            "(19272,)\n"
          ],
          "name": "stdout"
        }
      ]
    },
    {
      "cell_type": "code",
      "metadata": {
        "id": "oHlCfWdMWyn6",
        "outputId": "a0ad1670-03f4-4c03-d3c9-feb3f66541c7",
        "colab": {
          "base_uri": "https://localhost:8080/"
        }
      },
      "source": [
        "from sklearn.neighbors import KNeighborsClassifier\n",
        "from sklearn.metrics import accuracy_score\n",
        "\n",
        "#decide on best number of neighbors\n",
        "knn = KNeighborsClassifier(n_neighbors=3)\n",
        "knn.fit(feature_train, label_train)\n",
        "label_predict = knn.predict(feature_test)\n",
        "\n",
        "knn_accuracy = accuracy_score(label_test, label_predict)\n",
        "print(f'KNN accuracy at k=3: {knn_accuracy}')"
      ],
      "execution_count": 19,
      "outputs": [
        {
          "output_type": "stream",
          "text": [
            "KNN accuracy at k=3: 0.5400778210116731\n"
          ],
          "name": "stdout"
        }
      ]
    },
    {
      "cell_type": "markdown",
      "metadata": {
        "id": "ffkhTXTJW7C1"
      },
      "source": [
        "#knn using more features\n",
        "##the knn model will now use\n",
        "####period\n",
        "###the following must use hot encoding\n",
        "action_type,\n",
        "shot_zone_range,\n",
        "opponent,\n",
        "season,\n",
        "shot_zone_area"
      ]
    },
    {
      "cell_type": "code",
      "metadata": {
        "id": "2rQQ3oelW_UT"
      },
      "source": [
        "#pull out the features\n",
        "features = ['action_type','shot_zone_range', ]"
      ],
      "execution_count": null,
      "outputs": []
    },
    {
      "cell_type": "code",
      "metadata": {
        "id": "laBKWeSlYNlJ"
      },
      "source": [
        ""
      ],
      "execution_count": null,
      "outputs": []
    }
  ]
}